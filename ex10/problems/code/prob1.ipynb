{
 "cells": [
  {
   "cell_type": "code",
   "execution_count": 3,
   "metadata": {
    "collapsed": true
   },
   "outputs": [],
   "source": [
    "import numpy as np\n",
    "import matplotlib.pyplot as plt\n",
    "import IPython.display as dis\n",
    "\n",
    "%matplotlib inline\n"
   ]
  },
  {
   "cell_type": "code",
   "execution_count": 6,
   "metadata": {
    "collapsed": true
   },
   "outputs": [],
   "source": [
    "# input data\n",
    "X = np.array([[0,1],[0.5,2]])\n",
    "y = np.array([2,5])\n",
    "\n",
    "X_star = np.array([[0.5, 1]])\n",
    "\n",
    "# squared exponential kernel function\n",
    "def se(X):\n",
    "    D = X[:,:,np.newaxis] - X.T\n",
    "    return np.exp(-1/2*np.sum(D**2, axis=1))\n"
   ]
  },
  {
   "cell_type": "code",
   "execution_count": 7,
   "metadata": {
    "collapsed": false
   },
   "outputs": [],
   "source": [
    "# compute the covariance matrix using the se-kernel function\n",
    "Ka = se( np.concatenate((X,X_star),0) )\n",
    "\n",
    "K = Ka[:2,:2]\n",
    "K_star = Ka[:2,2]\n",
    "K_starstar = Ka[2,2]"
   ]
  },
  {
   "cell_type": "code",
   "execution_count": 11,
   "metadata": {
    "collapsed": false
   },
   "outputs": [
    {
     "name": "stdout",
     "output_type": "stream",
     "text": [
      "K:\n",
      "[[ 1.          0.53526143]\n",
      " [ 0.53526143  1.        ]]\n",
      "\n",
      "K*:\n",
      "[ 0.8824969   0.60653066]\n",
      "\n",
      "K**:\n",
      "1.0\n"
     ]
    }
   ],
   "source": [
    "print('K:')\n",
    "print(K)\n",
    "print()\n",
    "print('K*:')\n",
    "print(K_star)\n",
    "print()\n",
    "print('K**:')\n",
    "print(K_starstar)"
   ]
  },
  {
   "cell_type": "code",
   "execution_count": 44,
   "metadata": {
    "collapsed": false
   },
   "outputs": [],
   "source": [
    "# compute the mean expectation and the variance\n",
    "mu = K_star.dot(np.linalg.inv(K)).dot(y)\n",
    "var = K_starstar - K_star.dot( np.linalg.inv(K).dot(K_star) )\n"
   ]
  },
  {
   "cell_type": "code",
   "execution_count": 45,
   "metadata": {
    "collapsed": false
   },
   "outputs": [
    {
     "name": "stdout",
     "output_type": "stream",
     "text": [
      "f*|f,X,X* ~ N(2.503884, 0.195971)\n"
     ]
    }
   ],
   "source": [
    "print('f*|f,X,X* ~ N(%f, %f)' % (mu, var))\n"
   ]
  },
  {
   "cell_type": "code",
   "execution_count": null,
   "metadata": {
    "collapsed": true
   },
   "outputs": [],
   "source": []
  }
 ],
 "metadata": {
  "kernelspec": {
   "display_name": "Python 3",
   "language": "python",
   "name": "python3"
  },
  "language_info": {
   "codemirror_mode": {
    "name": "ipython",
    "version": 3
   },
   "file_extension": ".py",
   "mimetype": "text/x-python",
   "name": "python",
   "nbconvert_exporter": "python",
   "pygments_lexer": "ipython3",
   "version": "3.5.0"
  }
 },
 "nbformat": 4,
 "nbformat_minor": 0
}
